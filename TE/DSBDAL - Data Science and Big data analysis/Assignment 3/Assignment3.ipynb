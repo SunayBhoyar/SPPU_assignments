{
 "cells": [
  {
   "cell_type": "markdown",
   "id": "2d6a1025-8ea0-4b9c-ac84-01d1abe5e595",
   "metadata": {},
   "source": [
    "## Assignment 3\n",
    "### Importing Libraries "
   ]
  },
  {
   "cell_type": "code",
   "execution_count": 1,
   "id": "e94c1e74-eb2e-44de-a6e4-061c8c6437dc",
   "metadata": {},
   "outputs": [],
   "source": [
    "import numpy as np   \n",
    "import pandas as pd    \n",
    "import matplotlib.pyplot as plt "
   ]
  },
  {
   "cell_type": "markdown",
   "id": "9c9b17e9-7fc2-4fa6-b393-050ee395e1da",
   "metadata": {},
   "source": [
    "## Part - 1"
   ]
  },
  {
   "cell_type": "markdown",
   "id": "c693b599-5460-44e1-8ce0-29b0024936f8",
   "metadata": {},
   "source": [
    "### Getting the Dataset \n",
    "##### We are going to work on the Titanic Data set imported from ../Datasets/nba.csv "
   ]
  },
  {
   "cell_type": "code",
   "execution_count": 2,
   "id": "76d9b144-ba29-4b43-b4ad-b64ced13181a",
   "metadata": {},
   "outputs": [],
   "source": [
    "df = pd.read_csv(\"../Datasets/nba.csv\")"
   ]
  },
  {
   "cell_type": "markdown",
   "id": "a8ab187e-f3dc-4490-8736-1b8c9676633f",
   "metadata": {},
   "source": [
    "##### print the data to check if the data imported properly\n",
    "###### Data dimension -"
   ]
  },
  {
   "cell_type": "code",
   "execution_count": 3,
   "id": "8f4c24e0-1f36-43a0-80d1-76ae01cbd01e",
   "metadata": {},
   "outputs": [
    {
     "data": {
      "text/plain": [
       "(458, 9)"
      ]
     },
     "execution_count": 3,
     "metadata": {},
     "output_type": "execute_result"
    }
   ],
   "source": [
    "df.shape"
   ]
  },
  {
   "cell_type": "markdown",
   "id": "533baf2a-41dd-42e8-b506-af048defc608",
   "metadata": {},
   "source": [
    "###### Data Size -"
   ]
  },
  {
   "cell_type": "code",
   "execution_count": 4,
   "id": "84a92af8-7834-4068-8ec9-5efff76749bc",
   "metadata": {},
   "outputs": [
    {
     "data": {
      "text/plain": [
       "4122"
      ]
     },
     "execution_count": 4,
     "metadata": {},
     "output_type": "execute_result"
    }
   ],
   "source": [
    "df.size"
   ]
  },
  {
   "cell_type": "markdown",
   "id": "53d0d10c-d6a1-488e-aa70-5b8411a093bc",
   "metadata": {},
   "source": [
    "###### Description of the data frame -"
   ]
  },
  {
   "cell_type": "code",
   "execution_count": 5,
   "id": "ebfaec22-d897-4447-b010-0d933a7c8d75",
   "metadata": {},
   "outputs": [
    {
     "data": {
      "text/html": [
       "<div>\n",
       "<style scoped>\n",
       "    .dataframe tbody tr th:only-of-type {\n",
       "        vertical-align: middle;\n",
       "    }\n",
       "\n",
       "    .dataframe tbody tr th {\n",
       "        vertical-align: top;\n",
       "    }\n",
       "\n",
       "    .dataframe thead th {\n",
       "        text-align: right;\n",
       "    }\n",
       "</style>\n",
       "<table border=\"1\" class=\"dataframe\">\n",
       "  <thead>\n",
       "    <tr style=\"text-align: right;\">\n",
       "      <th></th>\n",
       "      <th>Number</th>\n",
       "      <th>Age</th>\n",
       "      <th>Weight</th>\n",
       "      <th>Salary</th>\n",
       "    </tr>\n",
       "  </thead>\n",
       "  <tbody>\n",
       "    <tr>\n",
       "      <th>count</th>\n",
       "      <td>457.000000</td>\n",
       "      <td>457.000000</td>\n",
       "      <td>457.000000</td>\n",
       "      <td>4.460000e+02</td>\n",
       "    </tr>\n",
       "    <tr>\n",
       "      <th>mean</th>\n",
       "      <td>17.678337</td>\n",
       "      <td>26.938731</td>\n",
       "      <td>221.522976</td>\n",
       "      <td>4.842684e+06</td>\n",
       "    </tr>\n",
       "    <tr>\n",
       "      <th>std</th>\n",
       "      <td>15.966090</td>\n",
       "      <td>4.404016</td>\n",
       "      <td>26.368343</td>\n",
       "      <td>5.229238e+06</td>\n",
       "    </tr>\n",
       "    <tr>\n",
       "      <th>min</th>\n",
       "      <td>0.000000</td>\n",
       "      <td>19.000000</td>\n",
       "      <td>161.000000</td>\n",
       "      <td>3.088800e+04</td>\n",
       "    </tr>\n",
       "    <tr>\n",
       "      <th>25%</th>\n",
       "      <td>5.000000</td>\n",
       "      <td>24.000000</td>\n",
       "      <td>200.000000</td>\n",
       "      <td>1.044792e+06</td>\n",
       "    </tr>\n",
       "    <tr>\n",
       "      <th>50%</th>\n",
       "      <td>13.000000</td>\n",
       "      <td>26.000000</td>\n",
       "      <td>220.000000</td>\n",
       "      <td>2.839073e+06</td>\n",
       "    </tr>\n",
       "    <tr>\n",
       "      <th>75%</th>\n",
       "      <td>25.000000</td>\n",
       "      <td>30.000000</td>\n",
       "      <td>240.000000</td>\n",
       "      <td>6.500000e+06</td>\n",
       "    </tr>\n",
       "    <tr>\n",
       "      <th>max</th>\n",
       "      <td>99.000000</td>\n",
       "      <td>40.000000</td>\n",
       "      <td>307.000000</td>\n",
       "      <td>2.500000e+07</td>\n",
       "    </tr>\n",
       "  </tbody>\n",
       "</table>\n",
       "</div>"
      ],
      "text/plain": [
       "           Number         Age      Weight        Salary\n",
       "count  457.000000  457.000000  457.000000  4.460000e+02\n",
       "mean    17.678337   26.938731  221.522976  4.842684e+06\n",
       "std     15.966090    4.404016   26.368343  5.229238e+06\n",
       "min      0.000000   19.000000  161.000000  3.088800e+04\n",
       "25%      5.000000   24.000000  200.000000  1.044792e+06\n",
       "50%     13.000000   26.000000  220.000000  2.839073e+06\n",
       "75%     25.000000   30.000000  240.000000  6.500000e+06\n",
       "max     99.000000   40.000000  307.000000  2.500000e+07"
      ]
     },
     "execution_count": 5,
     "metadata": {},
     "output_type": "execute_result"
    }
   ],
   "source": [
    "df.describe()"
   ]
  },
  {
   "cell_type": "markdown",
   "id": "cf945ca6-e95b-49d2-925e-58e1468042cb",
   "metadata": {},
   "source": [
    "###### Data types of different columns -"
   ]
  },
  {
   "cell_type": "code",
   "execution_count": 6,
   "id": "ae735f77-5cf7-4221-a9c2-d399ec0d8671",
   "metadata": {},
   "outputs": [
    {
     "data": {
      "text/plain": [
       "Name         object\n",
       "Team         object\n",
       "Number      float64\n",
       "Position     object\n",
       "Age         float64\n",
       "Height       object\n",
       "Weight      float64\n",
       "College      object\n",
       "Salary      float64\n",
       "dtype: object"
      ]
     },
     "execution_count": 6,
     "metadata": {},
     "output_type": "execute_result"
    }
   ],
   "source": [
    "df.dtypes"
   ]
  },
  {
   "cell_type": "markdown",
   "id": "f975b936-5128-49c5-8156-c396e0038aa7",
   "metadata": {},
   "source": [
    "###### printing first 5 rows -"
   ]
  },
  {
   "cell_type": "code",
   "execution_count": 7,
   "id": "9e89ea1e-9540-4fc9-9359-903149f9996e",
   "metadata": {},
   "outputs": [
    {
     "data": {
      "text/html": [
       "<div>\n",
       "<style scoped>\n",
       "    .dataframe tbody tr th:only-of-type {\n",
       "        vertical-align: middle;\n",
       "    }\n",
       "\n",
       "    .dataframe tbody tr th {\n",
       "        vertical-align: top;\n",
       "    }\n",
       "\n",
       "    .dataframe thead th {\n",
       "        text-align: right;\n",
       "    }\n",
       "</style>\n",
       "<table border=\"1\" class=\"dataframe\">\n",
       "  <thead>\n",
       "    <tr style=\"text-align: right;\">\n",
       "      <th></th>\n",
       "      <th>Name</th>\n",
       "      <th>Team</th>\n",
       "      <th>Number</th>\n",
       "      <th>Position</th>\n",
       "      <th>Age</th>\n",
       "      <th>Height</th>\n",
       "      <th>Weight</th>\n",
       "      <th>College</th>\n",
       "      <th>Salary</th>\n",
       "    </tr>\n",
       "  </thead>\n",
       "  <tbody>\n",
       "    <tr>\n",
       "      <th>0</th>\n",
       "      <td>Avery Bradley</td>\n",
       "      <td>Boston Celtics</td>\n",
       "      <td>0.0</td>\n",
       "      <td>PG</td>\n",
       "      <td>25.0</td>\n",
       "      <td>6-2</td>\n",
       "      <td>180.0</td>\n",
       "      <td>Texas</td>\n",
       "      <td>7730337.0</td>\n",
       "    </tr>\n",
       "    <tr>\n",
       "      <th>1</th>\n",
       "      <td>Jae Crowder</td>\n",
       "      <td>Boston Celtics</td>\n",
       "      <td>99.0</td>\n",
       "      <td>SF</td>\n",
       "      <td>25.0</td>\n",
       "      <td>6-6</td>\n",
       "      <td>235.0</td>\n",
       "      <td>Marquette</td>\n",
       "      <td>6796117.0</td>\n",
       "    </tr>\n",
       "    <tr>\n",
       "      <th>2</th>\n",
       "      <td>John Holland</td>\n",
       "      <td>Boston Celtics</td>\n",
       "      <td>30.0</td>\n",
       "      <td>SG</td>\n",
       "      <td>27.0</td>\n",
       "      <td>6-5</td>\n",
       "      <td>205.0</td>\n",
       "      <td>Boston University</td>\n",
       "      <td>NaN</td>\n",
       "    </tr>\n",
       "    <tr>\n",
       "      <th>3</th>\n",
       "      <td>R.J. Hunter</td>\n",
       "      <td>Boston Celtics</td>\n",
       "      <td>28.0</td>\n",
       "      <td>SG</td>\n",
       "      <td>22.0</td>\n",
       "      <td>6-5</td>\n",
       "      <td>185.0</td>\n",
       "      <td>Georgia State</td>\n",
       "      <td>1148640.0</td>\n",
       "    </tr>\n",
       "    <tr>\n",
       "      <th>4</th>\n",
       "      <td>Jonas Jerebko</td>\n",
       "      <td>Boston Celtics</td>\n",
       "      <td>8.0</td>\n",
       "      <td>PF</td>\n",
       "      <td>29.0</td>\n",
       "      <td>6-10</td>\n",
       "      <td>231.0</td>\n",
       "      <td>NaN</td>\n",
       "      <td>5000000.0</td>\n",
       "    </tr>\n",
       "  </tbody>\n",
       "</table>\n",
       "</div>"
      ],
      "text/plain": [
       "            Name            Team  Number Position   Age Height  Weight   \n",
       "0  Avery Bradley  Boston Celtics     0.0       PG  25.0    6-2   180.0  \\\n",
       "1    Jae Crowder  Boston Celtics    99.0       SF  25.0    6-6   235.0   \n",
       "2   John Holland  Boston Celtics    30.0       SG  27.0    6-5   205.0   \n",
       "3    R.J. Hunter  Boston Celtics    28.0       SG  22.0    6-5   185.0   \n",
       "4  Jonas Jerebko  Boston Celtics     8.0       PF  29.0   6-10   231.0   \n",
       "\n",
       "             College     Salary  \n",
       "0              Texas  7730337.0  \n",
       "1          Marquette  6796117.0  \n",
       "2  Boston University        NaN  \n",
       "3      Georgia State  1148640.0  \n",
       "4                NaN  5000000.0  "
      ]
     },
     "execution_count": 7,
     "metadata": {},
     "output_type": "execute_result"
    }
   ],
   "source": [
    "df.head()"
   ]
  },
  {
   "cell_type": "markdown",
   "id": "0d255261-2b9f-4a5f-9656-4e37acfa90de",
   "metadata": {},
   "source": [
    "### Checking of NULL values"
   ]
  },
  {
   "cell_type": "code",
   "execution_count": 8,
   "id": "e6d8ded5-3c0d-4b32-b6b7-f00c2c73f894",
   "metadata": {},
   "outputs": [
    {
     "data": {
      "text/plain": [
       "Name         1\n",
       "Team         1\n",
       "Number       1\n",
       "Position     1\n",
       "Age          1\n",
       "Height       1\n",
       "Weight       1\n",
       "College     85\n",
       "Salary      12\n",
       "dtype: int64"
      ]
     },
     "execution_count": 8,
     "metadata": {},
     "output_type": "execute_result"
    }
   ],
   "source": [
    "df.isnull().sum()"
   ]
  },
  {
   "cell_type": "markdown",
   "id": "132bc226-3a34-42eb-9cfb-732d4bb39251",
   "metadata": {},
   "source": [
    "### Checking of duplicate values"
   ]
  },
  {
   "cell_type": "code",
   "execution_count": 9,
   "id": "c5da4b35-5747-4cb0-8f6f-24340b50f16a",
   "metadata": {},
   "outputs": [
    {
     "data": {
      "text/plain": [
       "0"
      ]
     },
     "execution_count": 9,
     "metadata": {},
     "output_type": "execute_result"
    }
   ],
   "source": [
    "df.duplicated().sum()"
   ]
  },
  {
   "cell_type": "markdown",
   "id": "eaf9b596-6fb0-40a4-908d-7c6a31e52c46",
   "metadata": {},
   "source": [
    "### Data Wrangling\n",
    "#### Filling the max occuring college as the college of NA"
   ]
  },
  {
   "cell_type": "code",
   "execution_count": 10,
   "id": "53aded90-5de2-4dc3-9744-85f240f2e18c",
   "metadata": {},
   "outputs": [],
   "source": [
    "df['College'].fillna(df['College'].mode,inplace=True)"
   ]
  },
  {
   "cell_type": "markdown",
   "id": "2c5fce4c-9ae1-405e-ac34-419bf2fd9fca",
   "metadata": {},
   "source": [
    "##### Filling the salary of missing with the mean of salary"
   ]
  },
  {
   "cell_type": "code",
   "execution_count": 11,
   "id": "e03e40c8-4d5b-4e74-8dc2-48c2e68de125",
   "metadata": {},
   "outputs": [],
   "source": [
    "df['Salary'].fillna(df['Salary'].mean(),inplace = True)"
   ]
  },
  {
   "cell_type": "markdown",
   "id": "895e3bfb-2ed5-41fe-bab6-33b0d40fb767",
   "metadata": {},
   "source": [
    "##### Removing the other NA values "
   ]
  },
  {
   "cell_type": "code",
   "execution_count": 12,
   "id": "e4c81fdc-0f9b-4745-bd44-91dc298f3154",
   "metadata": {},
   "outputs": [],
   "source": [
    "df.dropna(inplace=True)"
   ]
  },
  {
   "cell_type": "markdown",
   "id": "8018f2de-dfae-486b-99c1-887f960ff977",
   "metadata": {},
   "source": [
    "### Clean Data"
   ]
  },
  {
   "cell_type": "code",
   "execution_count": 13,
   "id": "140ce34a-6719-4003-a1b3-3675559dc975",
   "metadata": {},
   "outputs": [
    {
     "data": {
      "text/plain": [
       "Name        0\n",
       "Team        0\n",
       "Number      0\n",
       "Position    0\n",
       "Age         0\n",
       "Height      0\n",
       "Weight      0\n",
       "College     0\n",
       "Salary      0\n",
       "dtype: int64"
      ]
     },
     "execution_count": 13,
     "metadata": {},
     "output_type": "execute_result"
    }
   ],
   "source": [
    "df.isnull().sum()"
   ]
  },
  {
   "cell_type": "code",
   "execution_count": 14,
   "id": "a7dbc236-410a-4c2a-9b10-253f1ce48527",
   "metadata": {},
   "outputs": [
    {
     "data": {
      "text/plain": [
       "(457, 9)"
      ]
     },
     "execution_count": 14,
     "metadata": {},
     "output_type": "execute_result"
    }
   ],
   "source": [
    "df.shape"
   ]
  },
  {
   "cell_type": "markdown",
   "id": "c2057c0e-b873-46ac-a6ca-8996040914a1",
   "metadata": {},
   "source": [
    "### Grouping Data\n",
    "##### Selecting the height as the paramater for the grouping as it has variation in groups "
   ]
  },
  {
   "cell_type": "code",
   "execution_count": 15,
   "id": "ed22fa00-6613-4172-ab7e-97eaf9b216f6",
   "metadata": {},
   "outputs": [
    {
     "data": {
      "text/plain": [
       "Height\n",
       "6-9     59\n",
       "6-10    47\n",
       "6-7     45\n",
       "6-8     43\n",
       "6-6     42\n",
       "6-11    40\n",
       "6-3     33\n",
       "6-5     32\n",
       "6-4     29\n",
       "7-0     27\n",
       "6-1     16\n",
       "6-2     16\n",
       "6-0     10\n",
       "7-1      7\n",
       "7-3      4\n",
       "5-11     3\n",
       "7-2      3\n",
       "5-9      1\n",
       "Name: count, dtype: int64"
      ]
     },
     "execution_count": 15,
     "metadata": {},
     "output_type": "execute_result"
    }
   ],
   "source": [
    "df['Height'].value_counts()"
   ]
  },
  {
   "cell_type": "markdown",
   "id": "bb409b20-b59d-4a87-bec7-3189fc905404",
   "metadata": {},
   "source": [
    "##### groupby() function groups the data on the given paramter "
   ]
  },
  {
   "cell_type": "code",
   "execution_count": 16,
   "id": "78df6ec1-201e-434d-bfd0-0e3af0157895",
   "metadata": {},
   "outputs": [],
   "source": [
    "height_groups = df.groupby(df['Height'])"
   ]
  },
  {
   "cell_type": "markdown",
   "id": "4114e973-4463-4955-9cb0-02c60c7a0c7b",
   "metadata": {},
   "source": [
    "##### Now the data can be retrived as per the groups "
   ]
  },
  {
   "cell_type": "code",
   "execution_count": 17,
   "id": "4c621827-2453-4657-b90f-5c3bb63ea86e",
   "metadata": {},
   "outputs": [
    {
     "data": {
      "text/html": [
       "<div>\n",
       "<style scoped>\n",
       "    .dataframe tbody tr th:only-of-type {\n",
       "        vertical-align: middle;\n",
       "    }\n",
       "\n",
       "    .dataframe tbody tr th {\n",
       "        vertical-align: top;\n",
       "    }\n",
       "\n",
       "    .dataframe thead th {\n",
       "        text-align: right;\n",
       "    }\n",
       "</style>\n",
       "<table border=\"1\" class=\"dataframe\">\n",
       "  <thead>\n",
       "    <tr style=\"text-align: right;\">\n",
       "      <th></th>\n",
       "      <th>count</th>\n",
       "      <th>mean</th>\n",
       "      <th>std</th>\n",
       "      <th>min</th>\n",
       "      <th>25%</th>\n",
       "      <th>50%</th>\n",
       "      <th>75%</th>\n",
       "      <th>max</th>\n",
       "    </tr>\n",
       "    <tr>\n",
       "      <th>Height</th>\n",
       "      <th></th>\n",
       "      <th></th>\n",
       "      <th></th>\n",
       "      <th></th>\n",
       "      <th></th>\n",
       "      <th></th>\n",
       "      <th></th>\n",
       "      <th></th>\n",
       "    </tr>\n",
       "  </thead>\n",
       "  <tbody>\n",
       "    <tr>\n",
       "      <th>5-11</th>\n",
       "      <td>3.0</td>\n",
       "      <td>5.891553e+05</td>\n",
       "      <td>7.926627e+05</td>\n",
       "      <td>55722.0</td>\n",
       "      <td>133733.0</td>\n",
       "      <td>211744.0</td>\n",
       "      <td>8.558720e+05</td>\n",
       "      <td>1500000.0</td>\n",
       "    </tr>\n",
       "    <tr>\n",
       "      <th>5-9</th>\n",
       "      <td>1.0</td>\n",
       "      <td>6.912869e+06</td>\n",
       "      <td>NaN</td>\n",
       "      <td>6912869.0</td>\n",
       "      <td>6912869.0</td>\n",
       "      <td>6912869.0</td>\n",
       "      <td>6.912869e+06</td>\n",
       "      <td>6912869.0</td>\n",
       "    </tr>\n",
       "    <tr>\n",
       "      <th>6-0</th>\n",
       "      <td>10.0</td>\n",
       "      <td>5.784075e+06</td>\n",
       "      <td>6.337144e+06</td>\n",
       "      <td>947276.0</td>\n",
       "      <td>2437500.0</td>\n",
       "      <td>3934473.5</td>\n",
       "      <td>4.846419e+06</td>\n",
       "      <td>21468695.0</td>\n",
       "    </tr>\n",
       "    <tr>\n",
       "      <th>6-1</th>\n",
       "      <td>16.0</td>\n",
       "      <td>5.217919e+06</td>\n",
       "      <td>4.286013e+06</td>\n",
       "      <td>700902.0</td>\n",
       "      <td>1646160.0</td>\n",
       "      <td>3402626.5</td>\n",
       "      <td>8.633373e+06</td>\n",
       "      <td>13500000.0</td>\n",
       "    </tr>\n",
       "    <tr>\n",
       "      <th>6-10</th>\n",
       "      <td>47.0</td>\n",
       "      <td>5.185375e+06</td>\n",
       "      <td>5.063120e+06</td>\n",
       "      <td>222888.0</td>\n",
       "      <td>1054584.5</td>\n",
       "      <td>3815000.0</td>\n",
       "      <td>7.025766e+06</td>\n",
       "      <td>19689000.0</td>\n",
       "    </tr>\n",
       "    <tr>\n",
       "      <th>6-11</th>\n",
       "      <td>40.0</td>\n",
       "      <td>6.544397e+06</td>\n",
       "      <td>6.906416e+06</td>\n",
       "      <td>245177.0</td>\n",
       "      <td>1362370.0</td>\n",
       "      <td>3107656.0</td>\n",
       "      <td>1.143804e+07</td>\n",
       "      <td>22359364.0</td>\n",
       "    </tr>\n",
       "    <tr>\n",
       "      <th>6-2</th>\n",
       "      <td>16.0</td>\n",
       "      <td>3.523777e+06</td>\n",
       "      <td>3.631376e+06</td>\n",
       "      <td>525093.0</td>\n",
       "      <td>947276.0</td>\n",
       "      <td>1553220.0</td>\n",
       "      <td>4.882013e+06</td>\n",
       "      <td>13437500.0</td>\n",
       "    </tr>\n",
       "    <tr>\n",
       "      <th>6-3</th>\n",
       "      <td>33.0</td>\n",
       "      <td>5.821784e+06</td>\n",
       "      <td>5.668225e+06</td>\n",
       "      <td>189455.0</td>\n",
       "      <td>1662360.0</td>\n",
       "      <td>4053446.0</td>\n",
       "      <td>8.000000e+06</td>\n",
       "      <td>20093064.0</td>\n",
       "    </tr>\n",
       "    <tr>\n",
       "      <th>6-4</th>\n",
       "      <td>29.0</td>\n",
       "      <td>4.646163e+06</td>\n",
       "      <td>5.275308e+06</td>\n",
       "      <td>134215.0</td>\n",
       "      <td>1015421.0</td>\n",
       "      <td>2525160.0</td>\n",
       "      <td>5.192520e+06</td>\n",
       "      <td>20000000.0</td>\n",
       "    </tr>\n",
       "    <tr>\n",
       "      <th>6-5</th>\n",
       "      <td>32.0</td>\n",
       "      <td>4.391786e+06</td>\n",
       "      <td>4.114296e+06</td>\n",
       "      <td>55722.0</td>\n",
       "      <td>1160040.0</td>\n",
       "      <td>3129420.0</td>\n",
       "      <td>6.015152e+06</td>\n",
       "      <td>16407500.0</td>\n",
       "    </tr>\n",
       "    <tr>\n",
       "      <th>6-6</th>\n",
       "      <td>42.0</td>\n",
       "      <td>3.586813e+06</td>\n",
       "      <td>4.518975e+06</td>\n",
       "      <td>167406.0</td>\n",
       "      <td>955794.0</td>\n",
       "      <td>1903380.0</td>\n",
       "      <td>4.317674e+06</td>\n",
       "      <td>25000000.0</td>\n",
       "    </tr>\n",
       "    <tr>\n",
       "      <th>6-7</th>\n",
       "      <td>45.0</td>\n",
       "      <td>3.504402e+06</td>\n",
       "      <td>4.337857e+06</td>\n",
       "      <td>30888.0</td>\n",
       "      <td>947276.0</td>\n",
       "      <td>1535880.0</td>\n",
       "      <td>4.000000e+06</td>\n",
       "      <td>16407500.0</td>\n",
       "    </tr>\n",
       "    <tr>\n",
       "      <th>6-8</th>\n",
       "      <td>43.0</td>\n",
       "      <td>5.950412e+06</td>\n",
       "      <td>6.133934e+06</td>\n",
       "      <td>83397.0</td>\n",
       "      <td>1259700.0</td>\n",
       "      <td>3425510.0</td>\n",
       "      <td>9.321234e+06</td>\n",
       "      <td>22970500.0</td>\n",
       "    </tr>\n",
       "    <tr>\n",
       "      <th>6-9</th>\n",
       "      <td>59.0</td>\n",
       "      <td>4.157787e+06</td>\n",
       "      <td>4.517154e+06</td>\n",
       "      <td>111444.0</td>\n",
       "      <td>1053814.0</td>\n",
       "      <td>2500000.0</td>\n",
       "      <td>5.250000e+06</td>\n",
       "      <td>20158622.0</td>\n",
       "    </tr>\n",
       "    <tr>\n",
       "      <th>7-0</th>\n",
       "      <td>27.0</td>\n",
       "      <td>5.287712e+06</td>\n",
       "      <td>4.675298e+06</td>\n",
       "      <td>947276.0</td>\n",
       "      <td>2003580.0</td>\n",
       "      <td>4204200.0</td>\n",
       "      <td>7.574380e+06</td>\n",
       "      <td>19689000.0</td>\n",
       "    </tr>\n",
       "    <tr>\n",
       "      <th>7-1</th>\n",
       "      <td>7.0</td>\n",
       "      <td>7.400988e+06</td>\n",
       "      <td>6.587462e+06</td>\n",
       "      <td>1175880.0</td>\n",
       "      <td>3441500.0</td>\n",
       "      <td>4950000.0</td>\n",
       "      <td>9.555017e+06</td>\n",
       "      <td>19688000.0</td>\n",
       "    </tr>\n",
       "    <tr>\n",
       "      <th>7-2</th>\n",
       "      <td>3.0</td>\n",
       "      <td>6.835639e+06</td>\n",
       "      <td>7.825718e+06</td>\n",
       "      <td>525093.0</td>\n",
       "      <td>2457350.0</td>\n",
       "      <td>4389607.0</td>\n",
       "      <td>9.990912e+06</td>\n",
       "      <td>15592217.0</td>\n",
       "    </tr>\n",
       "    <tr>\n",
       "      <th>7-3</th>\n",
       "      <td>4.0</td>\n",
       "      <td>2.307930e+06</td>\n",
       "      <td>1.484918e+06</td>\n",
       "      <td>1000000.0</td>\n",
       "      <td>1150000.0</td>\n",
       "      <td>2050000.0</td>\n",
       "      <td>3.207930e+06</td>\n",
       "      <td>4131720.0</td>\n",
       "    </tr>\n",
       "  </tbody>\n",
       "</table>\n",
       "</div>"
      ],
      "text/plain": [
       "        count          mean           std        min        25%        50%   \n",
       "Height                                                                       \n",
       "5-11      3.0  5.891553e+05  7.926627e+05    55722.0   133733.0   211744.0  \\\n",
       "5-9       1.0  6.912869e+06           NaN  6912869.0  6912869.0  6912869.0   \n",
       "6-0      10.0  5.784075e+06  6.337144e+06   947276.0  2437500.0  3934473.5   \n",
       "6-1      16.0  5.217919e+06  4.286013e+06   700902.0  1646160.0  3402626.5   \n",
       "6-10     47.0  5.185375e+06  5.063120e+06   222888.0  1054584.5  3815000.0   \n",
       "6-11     40.0  6.544397e+06  6.906416e+06   245177.0  1362370.0  3107656.0   \n",
       "6-2      16.0  3.523777e+06  3.631376e+06   525093.0   947276.0  1553220.0   \n",
       "6-3      33.0  5.821784e+06  5.668225e+06   189455.0  1662360.0  4053446.0   \n",
       "6-4      29.0  4.646163e+06  5.275308e+06   134215.0  1015421.0  2525160.0   \n",
       "6-5      32.0  4.391786e+06  4.114296e+06    55722.0  1160040.0  3129420.0   \n",
       "6-6      42.0  3.586813e+06  4.518975e+06   167406.0   955794.0  1903380.0   \n",
       "6-7      45.0  3.504402e+06  4.337857e+06    30888.0   947276.0  1535880.0   \n",
       "6-8      43.0  5.950412e+06  6.133934e+06    83397.0  1259700.0  3425510.0   \n",
       "6-9      59.0  4.157787e+06  4.517154e+06   111444.0  1053814.0  2500000.0   \n",
       "7-0      27.0  5.287712e+06  4.675298e+06   947276.0  2003580.0  4204200.0   \n",
       "7-1       7.0  7.400988e+06  6.587462e+06  1175880.0  3441500.0  4950000.0   \n",
       "7-2       3.0  6.835639e+06  7.825718e+06   525093.0  2457350.0  4389607.0   \n",
       "7-3       4.0  2.307930e+06  1.484918e+06  1000000.0  1150000.0  2050000.0   \n",
       "\n",
       "                 75%         max  \n",
       "Height                            \n",
       "5-11    8.558720e+05   1500000.0  \n",
       "5-9     6.912869e+06   6912869.0  \n",
       "6-0     4.846419e+06  21468695.0  \n",
       "6-1     8.633373e+06  13500000.0  \n",
       "6-10    7.025766e+06  19689000.0  \n",
       "6-11    1.143804e+07  22359364.0  \n",
       "6-2     4.882013e+06  13437500.0  \n",
       "6-3     8.000000e+06  20093064.0  \n",
       "6-4     5.192520e+06  20000000.0  \n",
       "6-5     6.015152e+06  16407500.0  \n",
       "6-6     4.317674e+06  25000000.0  \n",
       "6-7     4.000000e+06  16407500.0  \n",
       "6-8     9.321234e+06  22970500.0  \n",
       "6-9     5.250000e+06  20158622.0  \n",
       "7-0     7.574380e+06  19689000.0  \n",
       "7-1     9.555017e+06  19688000.0  \n",
       "7-2     9.990912e+06  15592217.0  \n",
       "7-3     3.207930e+06   4131720.0  "
      ]
     },
     "execution_count": 17,
     "metadata": {},
     "output_type": "execute_result"
    }
   ],
   "source": [
    "height_groups['Salary'].describe()"
   ]
  },
  {
   "cell_type": "markdown",
   "id": "78da7fbb-d372-4e80-b1cf-da69bfb1cbbb",
   "metadata": {},
   "source": [
    "##### Similar grouping on the Age"
   ]
  },
  {
   "cell_type": "code",
   "execution_count": 18,
   "id": "d4885045-472b-45c2-b7bf-3ecd1d891c0b",
   "metadata": {},
   "outputs": [
    {
     "data": {
      "text/html": [
       "<div>\n",
       "<style scoped>\n",
       "    .dataframe tbody tr th:only-of-type {\n",
       "        vertical-align: middle;\n",
       "    }\n",
       "\n",
       "    .dataframe tbody tr th {\n",
       "        vertical-align: top;\n",
       "    }\n",
       "\n",
       "    .dataframe thead th {\n",
       "        text-align: right;\n",
       "    }\n",
       "</style>\n",
       "<table border=\"1\" class=\"dataframe\">\n",
       "  <thead>\n",
       "    <tr style=\"text-align: right;\">\n",
       "      <th></th>\n",
       "      <th>count</th>\n",
       "      <th>mean</th>\n",
       "      <th>std</th>\n",
       "      <th>min</th>\n",
       "      <th>25%</th>\n",
       "      <th>50%</th>\n",
       "      <th>75%</th>\n",
       "      <th>max</th>\n",
       "    </tr>\n",
       "    <tr>\n",
       "      <th>Age</th>\n",
       "      <th></th>\n",
       "      <th></th>\n",
       "      <th></th>\n",
       "      <th></th>\n",
       "      <th></th>\n",
       "      <th></th>\n",
       "      <th></th>\n",
       "      <th></th>\n",
       "    </tr>\n",
       "  </thead>\n",
       "  <tbody>\n",
       "    <tr>\n",
       "      <th>19.0</th>\n",
       "      <td>2.0</td>\n",
       "      <td>1.930440e+06</td>\n",
       "      <td>2.791658e+05</td>\n",
       "      <td>1.733040e+06</td>\n",
       "      <td>1.831740e+06</td>\n",
       "      <td>1930440.0</td>\n",
       "      <td>2.029140e+06</td>\n",
       "      <td>2127840.0</td>\n",
       "    </tr>\n",
       "    <tr>\n",
       "      <th>20.0</th>\n",
       "      <td>19.0</td>\n",
       "      <td>2.725791e+06</td>\n",
       "      <td>1.510913e+06</td>\n",
       "      <td>5.250930e+05</td>\n",
       "      <td>1.636920e+06</td>\n",
       "      <td>2481720.0</td>\n",
       "      <td>3.954720e+06</td>\n",
       "      <td>5703600.0</td>\n",
       "    </tr>\n",
       "    <tr>\n",
       "      <th>21.0</th>\n",
       "      <td>19.0</td>\n",
       "      <td>2.067380e+06</td>\n",
       "      <td>1.412350e+06</td>\n",
       "      <td>5.250930e+05</td>\n",
       "      <td>1.235480e+06</td>\n",
       "      <td>1584480.0</td>\n",
       "      <td>2.084940e+06</td>\n",
       "      <td>5758680.0</td>\n",
       "    </tr>\n",
       "    <tr>\n",
       "      <th>22.0</th>\n",
       "      <td>26.0</td>\n",
       "      <td>2.357963e+06</td>\n",
       "      <td>1.517378e+06</td>\n",
       "      <td>5.250930e+05</td>\n",
       "      <td>1.169190e+06</td>\n",
       "      <td>1793880.0</td>\n",
       "      <td>3.366733e+06</td>\n",
       "      <td>6331404.0</td>\n",
       "    </tr>\n",
       "    <tr>\n",
       "      <th>23.0</th>\n",
       "      <td>41.0</td>\n",
       "      <td>2.171719e+06</td>\n",
       "      <td>2.728808e+06</td>\n",
       "      <td>3.088800e+04</td>\n",
       "      <td>6.500000e+05</td>\n",
       "      <td>1201440.0</td>\n",
       "      <td>2.891760e+06</td>\n",
       "      <td>16000000.0</td>\n",
       "    </tr>\n",
       "    <tr>\n",
       "      <th>24.0</th>\n",
       "      <td>47.0</td>\n",
       "      <td>3.830295e+06</td>\n",
       "      <td>4.702753e+06</td>\n",
       "      <td>5.250930e+05</td>\n",
       "      <td>9.236380e+05</td>\n",
       "      <td>1535880.0</td>\n",
       "      <td>4.751583e+06</td>\n",
       "      <td>16407501.0</td>\n",
       "    </tr>\n",
       "    <tr>\n",
       "      <th>25.0</th>\n",
       "      <td>45.0</td>\n",
       "      <td>3.951130e+06</td>\n",
       "      <td>4.508414e+06</td>\n",
       "      <td>5.572200e+04</td>\n",
       "      <td>9.472760e+05</td>\n",
       "      <td>1358880.0</td>\n",
       "      <td>5.543725e+06</td>\n",
       "      <td>15851950.0</td>\n",
       "    </tr>\n",
       "    <tr>\n",
       "      <th>26.0</th>\n",
       "      <td>36.0</td>\n",
       "      <td>6.866566e+06</td>\n",
       "      <td>6.100471e+06</td>\n",
       "      <td>1.342150e+05</td>\n",
       "      <td>1.336790e+06</td>\n",
       "      <td>3325000.0</td>\n",
       "      <td>1.256250e+07</td>\n",
       "      <td>17120106.0</td>\n",
       "    </tr>\n",
       "    <tr>\n",
       "      <th>27.0</th>\n",
       "      <td>41.0</td>\n",
       "      <td>6.632008e+06</td>\n",
       "      <td>6.752122e+06</td>\n",
       "      <td>5.572200e+04</td>\n",
       "      <td>1.035000e+06</td>\n",
       "      <td>3425510.0</td>\n",
       "      <td>1.123596e+07</td>\n",
       "      <td>20158622.0</td>\n",
       "    </tr>\n",
       "    <tr>\n",
       "      <th>28.0</th>\n",
       "      <td>31.0</td>\n",
       "      <td>5.101559e+06</td>\n",
       "      <td>4.244345e+06</td>\n",
       "      <td>2.061920e+05</td>\n",
       "      <td>1.843421e+06</td>\n",
       "      <td>4389607.0</td>\n",
       "      <td>6.190017e+06</td>\n",
       "      <td>19689000.0</td>\n",
       "    </tr>\n",
       "    <tr>\n",
       "      <th>29.0</th>\n",
       "      <td>28.0</td>\n",
       "      <td>6.174838e+06</td>\n",
       "      <td>4.786782e+06</td>\n",
       "      <td>1.114440e+05</td>\n",
       "      <td>2.205000e+06</td>\n",
       "      <td>5271862.5</td>\n",
       "      <td>9.322612e+06</td>\n",
       "      <td>16407500.0</td>\n",
       "    </tr>\n",
       "    <tr>\n",
       "      <th>30.0</th>\n",
       "      <td>31.0</td>\n",
       "      <td>6.990272e+06</td>\n",
       "      <td>5.332677e+06</td>\n",
       "      <td>9.472760e+05</td>\n",
       "      <td>3.099470e+06</td>\n",
       "      <td>5675000.0</td>\n",
       "      <td>9.000000e+06</td>\n",
       "      <td>22359364.0</td>\n",
       "    </tr>\n",
       "    <tr>\n",
       "      <th>31.0</th>\n",
       "      <td>22.0</td>\n",
       "      <td>8.511397e+06</td>\n",
       "      <td>7.170163e+06</td>\n",
       "      <td>9.472760e+05</td>\n",
       "      <td>3.000000e+06</td>\n",
       "      <td>5439487.0</td>\n",
       "      <td>1.347500e+07</td>\n",
       "      <td>22970500.0</td>\n",
       "    </tr>\n",
       "    <tr>\n",
       "      <th>32.0</th>\n",
       "      <td>13.0</td>\n",
       "      <td>7.716958e+06</td>\n",
       "      <td>7.451336e+06</td>\n",
       "      <td>2.953270e+05</td>\n",
       "      <td>3.135000e+06</td>\n",
       "      <td>5200000.0</td>\n",
       "      <td>1.121739e+07</td>\n",
       "      <td>22875000.0</td>\n",
       "    </tr>\n",
       "    <tr>\n",
       "      <th>33.0</th>\n",
       "      <td>14.0</td>\n",
       "      <td>3.930739e+06</td>\n",
       "      <td>4.354293e+06</td>\n",
       "      <td>2.006000e+05</td>\n",
       "      <td>1.119326e+06</td>\n",
       "      <td>2300000.0</td>\n",
       "      <td>4.040084e+06</td>\n",
       "      <td>13000000.0</td>\n",
       "    </tr>\n",
       "    <tr>\n",
       "      <th>34.0</th>\n",
       "      <td>10.0</td>\n",
       "      <td>7.606030e+06</td>\n",
       "      <td>5.653035e+06</td>\n",
       "      <td>2.618940e+05</td>\n",
       "      <td>4.512750e+06</td>\n",
       "      <td>6280675.5</td>\n",
       "      <td>9.103916e+06</td>\n",
       "      <td>20000000.0</td>\n",
       "    </tr>\n",
       "    <tr>\n",
       "      <th>35.0</th>\n",
       "      <td>9.0</td>\n",
       "      <td>3.615178e+06</td>\n",
       "      <td>2.259354e+06</td>\n",
       "      <td>9.472760e+05</td>\n",
       "      <td>1.499187e+06</td>\n",
       "      <td>3750000.0</td>\n",
       "      <td>4.842684e+06</td>\n",
       "      <td>7448760.0</td>\n",
       "    </tr>\n",
       "    <tr>\n",
       "      <th>36.0</th>\n",
       "      <td>10.0</td>\n",
       "      <td>2.238120e+06</td>\n",
       "      <td>1.550061e+06</td>\n",
       "      <td>9.472760e+05</td>\n",
       "      <td>9.472760e+05</td>\n",
       "      <td>1809826.0</td>\n",
       "      <td>2.888735e+06</td>\n",
       "      <td>5675000.0</td>\n",
       "    </tr>\n",
       "    <tr>\n",
       "      <th>37.0</th>\n",
       "      <td>4.0</td>\n",
       "      <td>1.079400e+07</td>\n",
       "      <td>9.606489e+06</td>\n",
       "      <td>4.842684e+06</td>\n",
       "      <td>4.960671e+06</td>\n",
       "      <td>6666667.0</td>\n",
       "      <td>1.250000e+07</td>\n",
       "      <td>25000000.0</td>\n",
       "    </tr>\n",
       "    <tr>\n",
       "      <th>38.0</th>\n",
       "      <td>4.0</td>\n",
       "      <td>1.840041e+06</td>\n",
       "      <td>1.496661e+06</td>\n",
       "      <td>2.228880e+05</td>\n",
       "      <td>7.661790e+05</td>\n",
       "      <td>1880638.0</td>\n",
       "      <td>2.954500e+06</td>\n",
       "      <td>3376000.0</td>\n",
       "    </tr>\n",
       "    <tr>\n",
       "      <th>39.0</th>\n",
       "      <td>2.0</td>\n",
       "      <td>2.517872e+06</td>\n",
       "      <td>2.220522e+06</td>\n",
       "      <td>9.477260e+05</td>\n",
       "      <td>1.732799e+06</td>\n",
       "      <td>2517872.5</td>\n",
       "      <td>3.302946e+06</td>\n",
       "      <td>4088019.0</td>\n",
       "    </tr>\n",
       "    <tr>\n",
       "      <th>40.0</th>\n",
       "      <td>3.0</td>\n",
       "      <td>4.666917e+06</td>\n",
       "      <td>4.155421e+06</td>\n",
       "      <td>2.507500e+05</td>\n",
       "      <td>2.750375e+06</td>\n",
       "      <td>5250000.0</td>\n",
       "      <td>6.875000e+06</td>\n",
       "      <td>8500000.0</td>\n",
       "    </tr>\n",
       "  </tbody>\n",
       "</table>\n",
       "</div>"
      ],
      "text/plain": [
       "      count          mean           std           min           25%   \n",
       "Age                                                                   \n",
       "19.0    2.0  1.930440e+06  2.791658e+05  1.733040e+06  1.831740e+06  \\\n",
       "20.0   19.0  2.725791e+06  1.510913e+06  5.250930e+05  1.636920e+06   \n",
       "21.0   19.0  2.067380e+06  1.412350e+06  5.250930e+05  1.235480e+06   \n",
       "22.0   26.0  2.357963e+06  1.517378e+06  5.250930e+05  1.169190e+06   \n",
       "23.0   41.0  2.171719e+06  2.728808e+06  3.088800e+04  6.500000e+05   \n",
       "24.0   47.0  3.830295e+06  4.702753e+06  5.250930e+05  9.236380e+05   \n",
       "25.0   45.0  3.951130e+06  4.508414e+06  5.572200e+04  9.472760e+05   \n",
       "26.0   36.0  6.866566e+06  6.100471e+06  1.342150e+05  1.336790e+06   \n",
       "27.0   41.0  6.632008e+06  6.752122e+06  5.572200e+04  1.035000e+06   \n",
       "28.0   31.0  5.101559e+06  4.244345e+06  2.061920e+05  1.843421e+06   \n",
       "29.0   28.0  6.174838e+06  4.786782e+06  1.114440e+05  2.205000e+06   \n",
       "30.0   31.0  6.990272e+06  5.332677e+06  9.472760e+05  3.099470e+06   \n",
       "31.0   22.0  8.511397e+06  7.170163e+06  9.472760e+05  3.000000e+06   \n",
       "32.0   13.0  7.716958e+06  7.451336e+06  2.953270e+05  3.135000e+06   \n",
       "33.0   14.0  3.930739e+06  4.354293e+06  2.006000e+05  1.119326e+06   \n",
       "34.0   10.0  7.606030e+06  5.653035e+06  2.618940e+05  4.512750e+06   \n",
       "35.0    9.0  3.615178e+06  2.259354e+06  9.472760e+05  1.499187e+06   \n",
       "36.0   10.0  2.238120e+06  1.550061e+06  9.472760e+05  9.472760e+05   \n",
       "37.0    4.0  1.079400e+07  9.606489e+06  4.842684e+06  4.960671e+06   \n",
       "38.0    4.0  1.840041e+06  1.496661e+06  2.228880e+05  7.661790e+05   \n",
       "39.0    2.0  2.517872e+06  2.220522e+06  9.477260e+05  1.732799e+06   \n",
       "40.0    3.0  4.666917e+06  4.155421e+06  2.507500e+05  2.750375e+06   \n",
       "\n",
       "            50%           75%         max  \n",
       "Age                                        \n",
       "19.0  1930440.0  2.029140e+06   2127840.0  \n",
       "20.0  2481720.0  3.954720e+06   5703600.0  \n",
       "21.0  1584480.0  2.084940e+06   5758680.0  \n",
       "22.0  1793880.0  3.366733e+06   6331404.0  \n",
       "23.0  1201440.0  2.891760e+06  16000000.0  \n",
       "24.0  1535880.0  4.751583e+06  16407501.0  \n",
       "25.0  1358880.0  5.543725e+06  15851950.0  \n",
       "26.0  3325000.0  1.256250e+07  17120106.0  \n",
       "27.0  3425510.0  1.123596e+07  20158622.0  \n",
       "28.0  4389607.0  6.190017e+06  19689000.0  \n",
       "29.0  5271862.5  9.322612e+06  16407500.0  \n",
       "30.0  5675000.0  9.000000e+06  22359364.0  \n",
       "31.0  5439487.0  1.347500e+07  22970500.0  \n",
       "32.0  5200000.0  1.121739e+07  22875000.0  \n",
       "33.0  2300000.0  4.040084e+06  13000000.0  \n",
       "34.0  6280675.5  9.103916e+06  20000000.0  \n",
       "35.0  3750000.0  4.842684e+06   7448760.0  \n",
       "36.0  1809826.0  2.888735e+06   5675000.0  \n",
       "37.0  6666667.0  1.250000e+07  25000000.0  \n",
       "38.0  1880638.0  2.954500e+06   3376000.0  \n",
       "39.0  2517872.5  3.302946e+06   4088019.0  \n",
       "40.0  5250000.0  6.875000e+06   8500000.0  "
      ]
     },
     "execution_count": 18,
     "metadata": {},
     "output_type": "execute_result"
    }
   ],
   "source": [
    "age_groups = df.groupby('Age')\n",
    "age_groups['Salary'].describe()"
   ]
  },
  {
   "cell_type": "markdown",
   "id": "31eec956-7bd3-403d-ad21-43f7b77970a5",
   "metadata": {},
   "source": [
    "### Custom Grouping in the Bins \n",
    "##### Here the cut function is used with parameters as bins , labels and its important to set the right as false else the edge value is counted twice"
   ]
  },
  {
   "cell_type": "code",
   "execution_count": 19,
   "id": "37e9fa77-5d5e-410e-b06c-5c1ab288a9f1",
   "metadata": {},
   "outputs": [
    {
     "data": {
      "text/plain": [
       "AgeGroup\n",
       "25-30    181\n",
       "20-25    152\n",
       "30-35     90\n",
       "35-40     29\n",
       "19-20      2\n",
       "Name: count, dtype: int64"
      ]
     },
     "execution_count": 19,
     "metadata": {},
     "output_type": "execute_result"
    }
   ],
   "source": [
    "bins = [19,20,25,30,35,40]\n",
    "labels = ['19-20','20-25','25-30','30-35','35-40']\n",
    "\n",
    "df['AgeGroup'] = pd.cut(df['Age'],bins = bins , labels = labels,right= False)\n",
    "df['AgeGroup'].value_counts()"
   ]
  },
  {
   "cell_type": "markdown",
   "id": "77476a9b-d128-45f4-9a23-a862eed1e71a",
   "metadata": {},
   "source": [
    "##### Now you can even get the median, mean and their descriptions of the salary groups "
   ]
  },
  {
   "cell_type": "code",
   "execution_count": 20,
   "id": "cd0e7427-5830-41a1-9ed3-f7ee66895a28",
   "metadata": {},
   "outputs": [
    {
     "data": {
      "text/plain": [
       "AgeGroup\n",
       "19-20    1930440.0\n",
       "20-25    1686039.5\n",
       "25-30    3578947.0\n",
       "30-35    5209584.5\n",
       "35-40    2854940.0\n",
       "Name: Salary, dtype: float64"
      ]
     },
     "execution_count": 20,
     "metadata": {},
     "output_type": "execute_result"
    }
   ],
   "source": [
    "df.groupby('AgeGroup')['Salary'].median()"
   ]
  },
  {
   "cell_type": "code",
   "execution_count": 21,
   "id": "2b01a7e4-bd58-4e7b-a8e6-e2d2ed0ecd2a",
   "metadata": {},
   "outputs": [
    {
     "data": {
      "text/plain": [
       "AgeGroup\n",
       "19-20    1.930440e+06\n",
       "20-25    2.772642e+06\n",
       "25-30    5.679300e+06\n",
       "30-35    7.059559e+06\n",
       "35-40    3.809991e+06\n",
       "Name: Salary, dtype: float64"
      ]
     },
     "execution_count": 21,
     "metadata": {},
     "output_type": "execute_result"
    }
   ],
   "source": [
    "df.groupby('AgeGroup')['Salary'].mean()"
   ]
  },
  {
   "cell_type": "code",
   "execution_count": 22,
   "id": "bc39b23d-0dde-4832-9643-8b0cc776063e",
   "metadata": {},
   "outputs": [
    {
     "data": {
      "text/html": [
       "<div>\n",
       "<style scoped>\n",
       "    .dataframe tbody tr th:only-of-type {\n",
       "        vertical-align: middle;\n",
       "    }\n",
       "\n",
       "    .dataframe tbody tr th {\n",
       "        vertical-align: top;\n",
       "    }\n",
       "\n",
       "    .dataframe thead th {\n",
       "        text-align: right;\n",
       "    }\n",
       "</style>\n",
       "<table border=\"1\" class=\"dataframe\">\n",
       "  <thead>\n",
       "    <tr style=\"text-align: right;\">\n",
       "      <th></th>\n",
       "      <th>count</th>\n",
       "      <th>mean</th>\n",
       "      <th>std</th>\n",
       "      <th>min</th>\n",
       "      <th>25%</th>\n",
       "      <th>50%</th>\n",
       "      <th>75%</th>\n",
       "      <th>max</th>\n",
       "    </tr>\n",
       "    <tr>\n",
       "      <th>AgeGroup</th>\n",
       "      <th></th>\n",
       "      <th></th>\n",
       "      <th></th>\n",
       "      <th></th>\n",
       "      <th></th>\n",
       "      <th></th>\n",
       "      <th></th>\n",
       "      <th></th>\n",
       "    </tr>\n",
       "  </thead>\n",
       "  <tbody>\n",
       "    <tr>\n",
       "      <th>19-20</th>\n",
       "      <td>2.0</td>\n",
       "      <td>1.930440e+06</td>\n",
       "      <td>2.791658e+05</td>\n",
       "      <td>1733040.0</td>\n",
       "      <td>1831740.0</td>\n",
       "      <td>1930440.0</td>\n",
       "      <td>2.029140e+06</td>\n",
       "      <td>2127840.0</td>\n",
       "    </tr>\n",
       "    <tr>\n",
       "      <th>20-25</th>\n",
       "      <td>152.0</td>\n",
       "      <td>2.772642e+06</td>\n",
       "      <td>3.184283e+06</td>\n",
       "      <td>30888.0</td>\n",
       "      <td>986819.0</td>\n",
       "      <td>1686039.5</td>\n",
       "      <td>3.164898e+06</td>\n",
       "      <td>16407501.0</td>\n",
       "    </tr>\n",
       "    <tr>\n",
       "      <th>25-30</th>\n",
       "      <td>181.0</td>\n",
       "      <td>5.679300e+06</td>\n",
       "      <td>5.486956e+06</td>\n",
       "      <td>55722.0</td>\n",
       "      <td>1035000.0</td>\n",
       "      <td>3578947.0</td>\n",
       "      <td>8.988765e+06</td>\n",
       "      <td>20158622.0</td>\n",
       "    </tr>\n",
       "    <tr>\n",
       "      <th>30-35</th>\n",
       "      <td>90.0</td>\n",
       "      <td>7.059559e+06</td>\n",
       "      <td>6.112519e+06</td>\n",
       "      <td>200600.0</td>\n",
       "      <td>2312500.0</td>\n",
       "      <td>5209584.5</td>\n",
       "      <td>1.005277e+07</td>\n",
       "      <td>22970500.0</td>\n",
       "    </tr>\n",
       "    <tr>\n",
       "      <th>35-40</th>\n",
       "      <td>29.0</td>\n",
       "      <td>3.809991e+06</td>\n",
       "      <td>4.590298e+06</td>\n",
       "      <td>222888.0</td>\n",
       "      <td>947276.0</td>\n",
       "      <td>2854940.0</td>\n",
       "      <td>4.842684e+06</td>\n",
       "      <td>25000000.0</td>\n",
       "    </tr>\n",
       "  </tbody>\n",
       "</table>\n",
       "</div>"
      ],
      "text/plain": [
       "          count          mean           std        min        25%        50%   \n",
       "AgeGroup                                                                       \n",
       "19-20       2.0  1.930440e+06  2.791658e+05  1733040.0  1831740.0  1930440.0  \\\n",
       "20-25     152.0  2.772642e+06  3.184283e+06    30888.0   986819.0  1686039.5   \n",
       "25-30     181.0  5.679300e+06  5.486956e+06    55722.0  1035000.0  3578947.0   \n",
       "30-35      90.0  7.059559e+06  6.112519e+06   200600.0  2312500.0  5209584.5   \n",
       "35-40      29.0  3.809991e+06  4.590298e+06   222888.0   947276.0  2854940.0   \n",
       "\n",
       "                   75%         max  \n",
       "AgeGroup                            \n",
       "19-20     2.029140e+06   2127840.0  \n",
       "20-25     3.164898e+06  16407501.0  \n",
       "25-30     8.988765e+06  20158622.0  \n",
       "30-35     1.005277e+07  22970500.0  \n",
       "35-40     4.842684e+06  25000000.0  "
      ]
     },
     "execution_count": 22,
     "metadata": {},
     "output_type": "execute_result"
    }
   ],
   "source": [
    "df.groupby('AgeGroup')['Salary'].describe()"
   ]
  },
  {
   "cell_type": "markdown",
   "id": "ca2cf9fd-68bc-4d5d-874f-2ec61ab1695d",
   "metadata": {},
   "source": [
    "## Part - 2"
   ]
  },
  {
   "cell_type": "code",
   "execution_count": 25,
   "id": "bba3833e-507e-4e1b-ad74-032ba092b283",
   "metadata": {},
   "outputs": [],
   "source": [
    "df = pd.read_csv(\"../Datasets/Iris.csv\")"
   ]
  },
  {
   "cell_type": "code",
   "execution_count": 26,
   "id": "f36735d0-0285-4115-9be2-72cab21720bd",
   "metadata": {},
   "outputs": [
    {
     "data": {
      "text/html": [
       "<div>\n",
       "<style scoped>\n",
       "    .dataframe tbody tr th:only-of-type {\n",
       "        vertical-align: middle;\n",
       "    }\n",
       "\n",
       "    .dataframe tbody tr th {\n",
       "        vertical-align: top;\n",
       "    }\n",
       "\n",
       "    .dataframe thead th {\n",
       "        text-align: right;\n",
       "    }\n",
       "</style>\n",
       "<table border=\"1\" class=\"dataframe\">\n",
       "  <thead>\n",
       "    <tr style=\"text-align: right;\">\n",
       "      <th></th>\n",
       "      <th>Id</th>\n",
       "      <th>SepalLengthCm</th>\n",
       "      <th>SepalWidthCm</th>\n",
       "      <th>PetalLengthCm</th>\n",
       "      <th>PetalWidthCm</th>\n",
       "      <th>Species</th>\n",
       "    </tr>\n",
       "  </thead>\n",
       "  <tbody>\n",
       "    <tr>\n",
       "      <th>0</th>\n",
       "      <td>1</td>\n",
       "      <td>5.1</td>\n",
       "      <td>3.5</td>\n",
       "      <td>1.4</td>\n",
       "      <td>0.2</td>\n",
       "      <td>Iris-setosa</td>\n",
       "    </tr>\n",
       "    <tr>\n",
       "      <th>1</th>\n",
       "      <td>2</td>\n",
       "      <td>4.9</td>\n",
       "      <td>3.0</td>\n",
       "      <td>1.4</td>\n",
       "      <td>0.2</td>\n",
       "      <td>Iris-setosa</td>\n",
       "    </tr>\n",
       "    <tr>\n",
       "      <th>2</th>\n",
       "      <td>3</td>\n",
       "      <td>4.7</td>\n",
       "      <td>3.2</td>\n",
       "      <td>1.3</td>\n",
       "      <td>0.2</td>\n",
       "      <td>Iris-setosa</td>\n",
       "    </tr>\n",
       "    <tr>\n",
       "      <th>3</th>\n",
       "      <td>4</td>\n",
       "      <td>4.6</td>\n",
       "      <td>3.1</td>\n",
       "      <td>1.5</td>\n",
       "      <td>0.2</td>\n",
       "      <td>Iris-setosa</td>\n",
       "    </tr>\n",
       "    <tr>\n",
       "      <th>4</th>\n",
       "      <td>5</td>\n",
       "      <td>5.0</td>\n",
       "      <td>3.6</td>\n",
       "      <td>1.4</td>\n",
       "      <td>0.2</td>\n",
       "      <td>Iris-setosa</td>\n",
       "    </tr>\n",
       "  </tbody>\n",
       "</table>\n",
       "</div>"
      ],
      "text/plain": [
       "   Id  SepalLengthCm  SepalWidthCm  PetalLengthCm  PetalWidthCm      Species\n",
       "0   1            5.1           3.5            1.4           0.2  Iris-setosa\n",
       "1   2            4.9           3.0            1.4           0.2  Iris-setosa\n",
       "2   3            4.7           3.2            1.3           0.2  Iris-setosa\n",
       "3   4            4.6           3.1            1.5           0.2  Iris-setosa\n",
       "4   5            5.0           3.6            1.4           0.2  Iris-setosa"
      ]
     },
     "execution_count": 26,
     "metadata": {},
     "output_type": "execute_result"
    }
   ],
   "source": [
    "df.head()"
   ]
  },
  {
   "cell_type": "code",
   "execution_count": 27,
   "id": "c47cefa4-2ae7-4089-a6c8-fe8cd4d4b6e7",
   "metadata": {},
   "outputs": [
    {
     "data": {
      "text/plain": [
       "Id               0\n",
       "SepalLengthCm    0\n",
       "SepalWidthCm     0\n",
       "PetalLengthCm    0\n",
       "PetalWidthCm     0\n",
       "Species          0\n",
       "dtype: int64"
      ]
     },
     "execution_count": 27,
     "metadata": {},
     "output_type": "execute_result"
    }
   ],
   "source": [
    "df.isnull().sum()"
   ]
  },
  {
   "cell_type": "code",
   "execution_count": 28,
   "id": "637a4f1e-624f-4a6a-bc5e-4947e62a063e",
   "metadata": {},
   "outputs": [
    {
     "data": {
      "text/plain": [
       "Id                 int64\n",
       "SepalLengthCm    float64\n",
       "SepalWidthCm     float64\n",
       "PetalLengthCm    float64\n",
       "PetalWidthCm     float64\n",
       "Species           object\n",
       "dtype: object"
      ]
     },
     "execution_count": 28,
     "metadata": {},
     "output_type": "execute_result"
    }
   ],
   "source": [
    "df.dtypes"
   ]
  },
  {
   "cell_type": "code",
   "execution_count": 33,
   "id": "d182001c-46c2-41e1-8ec5-e5e4f836cda5",
   "metadata": {},
   "outputs": [
    {
     "name": "stdout",
     "output_type": "stream",
     "text": [
      "\n",
      "Iris-setosa\n",
      "               count    mean        std  min     25%   50%     75%   max\n",
      "Id              50.0  25.500  14.577380  1.0  13.250  25.5  37.750  50.0\n",
      "SepalLengthCm   50.0   5.006   0.352490  4.3   4.800   5.0   5.200   5.8\n",
      "SepalWidthCm    50.0   3.418   0.381024  2.3   3.125   3.4   3.675   4.4\n",
      "PetalLengthCm   50.0   1.464   0.173511  1.0   1.400   1.5   1.575   1.9\n",
      "PetalWidthCm    50.0   0.244   0.107210  0.1   0.200   0.2   0.300   0.6\n",
      "\n",
      "Iris-versicolor\n",
      "               count    mean        std   min     25%    50%    75%    max\n",
      "Id              50.0  75.500  14.577380  51.0  63.250  75.50  87.75  100.0\n",
      "SepalLengthCm   50.0   5.936   0.516171   4.9   5.600   5.90   6.30    7.0\n",
      "SepalWidthCm    50.0   2.770   0.313798   2.0   2.525   2.80   3.00    3.4\n",
      "PetalLengthCm   50.0   4.260   0.469911   3.0   4.000   4.35   4.60    5.1\n",
      "PetalWidthCm    50.0   1.326   0.197753   1.0   1.200   1.30   1.50    1.8\n",
      "\n",
      "Iris-virginica\n",
      "               count     mean        std    min      25%     50%      75%   \n",
      "Id              50.0  125.500  14.577380  101.0  113.250  125.50  137.750  \\\n",
      "SepalLengthCm   50.0    6.588   0.635880    4.9    6.225    6.50    6.900   \n",
      "SepalWidthCm    50.0    2.974   0.322497    2.2    2.800    3.00    3.175   \n",
      "PetalLengthCm   50.0    5.552   0.551895    4.5    5.100    5.55    5.875   \n",
      "PetalWidthCm    50.0    2.026   0.274650    1.4    1.800    2.00    2.300   \n",
      "\n",
      "                 max  \n",
      "Id             150.0  \n",
      "SepalLengthCm    7.9  \n",
      "SepalWidthCm     3.8  \n",
      "PetalLengthCm    6.9  \n",
      "PetalWidthCm     2.5  \n"
     ]
    }
   ],
   "source": [
    "def basic_statistics(df):\n",
    "    print(\"\\nIris-setosa\")\n",
    "    print(df[df.Species=='Iris-setosa'].describe().transpose())\n",
    "    print(\"\\nIris-versicolor\")\n",
    "    print(df[df.Species=='Iris-versicolor'].describe().transpose())\n",
    "    print(\"\\nIris-virginica\")\n",
    "    print(df[df.Species=='Iris-virginica'].describe().transpose())\n",
    "basic_statistics(df)  "
   ]
  },
  {
   "cell_type": "code",
   "execution_count": null,
   "id": "f47d0974-d5fa-4fde-b882-98d4d852def9",
   "metadata": {},
   "outputs": [],
   "source": []
  }
 ],
 "metadata": {
  "kernelspec": {
   "display_name": "Python 3 (ipykernel)",
   "language": "python",
   "name": "python3"
  },
  "language_info": {
   "codemirror_mode": {
    "name": "ipython",
    "version": 3
   },
   "file_extension": ".py",
   "mimetype": "text/x-python",
   "name": "python",
   "nbconvert_exporter": "python",
   "pygments_lexer": "ipython3",
   "version": "3.10.2"
  }
 },
 "nbformat": 4,
 "nbformat_minor": 5
}
