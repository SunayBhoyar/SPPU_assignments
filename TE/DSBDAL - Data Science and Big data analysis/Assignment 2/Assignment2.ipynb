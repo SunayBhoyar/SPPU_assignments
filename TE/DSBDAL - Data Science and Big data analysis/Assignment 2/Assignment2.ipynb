{
 "cells": [
  {
   "cell_type": "markdown",
   "id": "2d6a1025-8ea0-4b9c-ac84-01d1abe5e595",
   "metadata": {},
   "source": [
    "## Assignment 2\n",
    "### Importing Libraries "
   ]
  },
  {
   "cell_type": "code",
   "execution_count": 1,
   "id": "e94c1e74-eb2e-44de-a6e4-061c8c6437dc",
   "metadata": {},
   "outputs": [],
   "source": [
    "import pandas as pd \n",
    "import numpy as np\n",
    "import matplotlib.pyplot as plt\n",
    "from scipy import stats"
   ]
  },
  {
   "cell_type": "markdown",
   "id": "c693b599-5460-44e1-8ce0-29b0024936f8",
   "metadata": {},
   "source": [
    "### Getting the Dataset \n",
    "##### We are going to work on the Titanic Data set imported from ../Datasets/titanic.csv ; if you dont have it download it from https://www.kaggle.com/competitions/titanic/data?select=test.csv"
   ]
  },
  {
   "cell_type": "code",
   "execution_count": 2,
   "id": "76d9b144-ba29-4b43-b4ad-b64ced13181a",
   "metadata": {},
   "outputs": [],
   "source": [
    "df = pd.read_csv(\"../Datasets/titanic.csv\")"
   ]
  },
  {
   "cell_type": "markdown",
   "id": "a8ab187e-f3dc-4490-8736-1b8c9676633f",
   "metadata": {},
   "source": [
    "##### print the data to check if the data imported properly\n",
    "###### Data dimension -"
   ]
  },
  {
   "cell_type": "code",
   "execution_count": 3,
   "id": "8f4c24e0-1f36-43a0-80d1-76ae01cbd01e",
   "metadata": {},
   "outputs": [
    {
     "data": {
      "text/plain": [
       "(891, 12)"
      ]
     },
     "execution_count": 3,
     "metadata": {},
     "output_type": "execute_result"
    }
   ],
   "source": [
    "df.shape"
   ]
  },
  {
   "cell_type": "markdown",
   "id": "533baf2a-41dd-42e8-b506-af048defc608",
   "metadata": {},
   "source": [
    "###### Data Size -"
   ]
  },
  {
   "cell_type": "code",
   "execution_count": 4,
   "id": "84a92af8-7834-4068-8ec9-5efff76749bc",
   "metadata": {},
   "outputs": [
    {
     "data": {
      "text/plain": [
       "10692"
      ]
     },
     "execution_count": 4,
     "metadata": {},
     "output_type": "execute_result"
    }
   ],
   "source": [
    "df.size"
   ]
  },
  {
   "cell_type": "markdown",
   "id": "53d0d10c-d6a1-488e-aa70-5b8411a093bc",
   "metadata": {},
   "source": [
    "###### Description of the data frame -"
   ]
  },
  {
   "cell_type": "code",
   "execution_count": 5,
   "id": "ebfaec22-d897-4447-b010-0d933a7c8d75",
   "metadata": {},
   "outputs": [
    {
     "data": {
      "text/html": [
       "<div>\n",
       "<style scoped>\n",
       "    .dataframe tbody tr th:only-of-type {\n",
       "        vertical-align: middle;\n",
       "    }\n",
       "\n",
       "    .dataframe tbody tr th {\n",
       "        vertical-align: top;\n",
       "    }\n",
       "\n",
       "    .dataframe thead th {\n",
       "        text-align: right;\n",
       "    }\n",
       "</style>\n",
       "<table border=\"1\" class=\"dataframe\">\n",
       "  <thead>\n",
       "    <tr style=\"text-align: right;\">\n",
       "      <th></th>\n",
       "      <th>PassengerId</th>\n",
       "      <th>Survived</th>\n",
       "      <th>Pclass</th>\n",
       "      <th>Age</th>\n",
       "      <th>SibSp</th>\n",
       "      <th>Parch</th>\n",
       "      <th>Fare</th>\n",
       "    </tr>\n",
       "  </thead>\n",
       "  <tbody>\n",
       "    <tr>\n",
       "      <th>count</th>\n",
       "      <td>891.000000</td>\n",
       "      <td>891.000000</td>\n",
       "      <td>891.000000</td>\n",
       "      <td>714.000000</td>\n",
       "      <td>891.000000</td>\n",
       "      <td>891.000000</td>\n",
       "      <td>891.000000</td>\n",
       "    </tr>\n",
       "    <tr>\n",
       "      <th>mean</th>\n",
       "      <td>446.000000</td>\n",
       "      <td>0.383838</td>\n",
       "      <td>2.308642</td>\n",
       "      <td>29.699118</td>\n",
       "      <td>0.523008</td>\n",
       "      <td>0.381594</td>\n",
       "      <td>32.204208</td>\n",
       "    </tr>\n",
       "    <tr>\n",
       "      <th>std</th>\n",
       "      <td>257.353842</td>\n",
       "      <td>0.486592</td>\n",
       "      <td>0.836071</td>\n",
       "      <td>14.526497</td>\n",
       "      <td>1.102743</td>\n",
       "      <td>0.806057</td>\n",
       "      <td>49.693429</td>\n",
       "    </tr>\n",
       "    <tr>\n",
       "      <th>min</th>\n",
       "      <td>1.000000</td>\n",
       "      <td>0.000000</td>\n",
       "      <td>1.000000</td>\n",
       "      <td>0.420000</td>\n",
       "      <td>0.000000</td>\n",
       "      <td>0.000000</td>\n",
       "      <td>0.000000</td>\n",
       "    </tr>\n",
       "    <tr>\n",
       "      <th>25%</th>\n",
       "      <td>223.500000</td>\n",
       "      <td>0.000000</td>\n",
       "      <td>2.000000</td>\n",
       "      <td>20.125000</td>\n",
       "      <td>0.000000</td>\n",
       "      <td>0.000000</td>\n",
       "      <td>7.910400</td>\n",
       "    </tr>\n",
       "    <tr>\n",
       "      <th>50%</th>\n",
       "      <td>446.000000</td>\n",
       "      <td>0.000000</td>\n",
       "      <td>3.000000</td>\n",
       "      <td>28.000000</td>\n",
       "      <td>0.000000</td>\n",
       "      <td>0.000000</td>\n",
       "      <td>14.454200</td>\n",
       "    </tr>\n",
       "    <tr>\n",
       "      <th>75%</th>\n",
       "      <td>668.500000</td>\n",
       "      <td>1.000000</td>\n",
       "      <td>3.000000</td>\n",
       "      <td>38.000000</td>\n",
       "      <td>1.000000</td>\n",
       "      <td>0.000000</td>\n",
       "      <td>31.000000</td>\n",
       "    </tr>\n",
       "    <tr>\n",
       "      <th>max</th>\n",
       "      <td>891.000000</td>\n",
       "      <td>1.000000</td>\n",
       "      <td>3.000000</td>\n",
       "      <td>80.000000</td>\n",
       "      <td>8.000000</td>\n",
       "      <td>6.000000</td>\n",
       "      <td>512.329200</td>\n",
       "    </tr>\n",
       "  </tbody>\n",
       "</table>\n",
       "</div>"
      ],
      "text/plain": [
       "       PassengerId    Survived      Pclass         Age       SibSp   \n",
       "count   891.000000  891.000000  891.000000  714.000000  891.000000  \\\n",
       "mean    446.000000    0.383838    2.308642   29.699118    0.523008   \n",
       "std     257.353842    0.486592    0.836071   14.526497    1.102743   \n",
       "min       1.000000    0.000000    1.000000    0.420000    0.000000   \n",
       "25%     223.500000    0.000000    2.000000   20.125000    0.000000   \n",
       "50%     446.000000    0.000000    3.000000   28.000000    0.000000   \n",
       "75%     668.500000    1.000000    3.000000   38.000000    1.000000   \n",
       "max     891.000000    1.000000    3.000000   80.000000    8.000000   \n",
       "\n",
       "            Parch        Fare  \n",
       "count  891.000000  891.000000  \n",
       "mean     0.381594   32.204208  \n",
       "std      0.806057   49.693429  \n",
       "min      0.000000    0.000000  \n",
       "25%      0.000000    7.910400  \n",
       "50%      0.000000   14.454200  \n",
       "75%      0.000000   31.000000  \n",
       "max      6.000000  512.329200  "
      ]
     },
     "execution_count": 5,
     "metadata": {},
     "output_type": "execute_result"
    }
   ],
   "source": [
    "df.describe()"
   ]
  },
  {
   "cell_type": "markdown",
   "id": "cf945ca6-e95b-49d2-925e-58e1468042cb",
   "metadata": {},
   "source": [
    "###### Data types of different columns -"
   ]
  },
  {
   "cell_type": "code",
   "execution_count": 6,
   "id": "ae735f77-5cf7-4221-a9c2-d399ec0d8671",
   "metadata": {},
   "outputs": [
    {
     "data": {
      "text/plain": [
       "PassengerId      int64\n",
       "Survived         int64\n",
       "Pclass           int64\n",
       "Name            object\n",
       "Sex             object\n",
       "Age            float64\n",
       "SibSp            int64\n",
       "Parch            int64\n",
       "Ticket          object\n",
       "Fare           float64\n",
       "Cabin           object\n",
       "Embarked        object\n",
       "dtype: object"
      ]
     },
     "execution_count": 6,
     "metadata": {},
     "output_type": "execute_result"
    }
   ],
   "source": [
    "df.dtypes"
   ]
  },
  {
   "cell_type": "markdown",
   "id": "f975b936-5128-49c5-8156-c396e0038aa7",
   "metadata": {},
   "source": [
    "###### printing first 5 rows -"
   ]
  },
  {
   "cell_type": "code",
   "execution_count": 7,
   "id": "9e89ea1e-9540-4fc9-9359-903149f9996e",
   "metadata": {},
   "outputs": [
    {
     "data": {
      "text/html": [
       "<div>\n",
       "<style scoped>\n",
       "    .dataframe tbody tr th:only-of-type {\n",
       "        vertical-align: middle;\n",
       "    }\n",
       "\n",
       "    .dataframe tbody tr th {\n",
       "        vertical-align: top;\n",
       "    }\n",
       "\n",
       "    .dataframe thead th {\n",
       "        text-align: right;\n",
       "    }\n",
       "</style>\n",
       "<table border=\"1\" class=\"dataframe\">\n",
       "  <thead>\n",
       "    <tr style=\"text-align: right;\">\n",
       "      <th></th>\n",
       "      <th>PassengerId</th>\n",
       "      <th>Survived</th>\n",
       "      <th>Pclass</th>\n",
       "      <th>Name</th>\n",
       "      <th>Sex</th>\n",
       "      <th>Age</th>\n",
       "      <th>SibSp</th>\n",
       "      <th>Parch</th>\n",
       "      <th>Ticket</th>\n",
       "      <th>Fare</th>\n",
       "      <th>Cabin</th>\n",
       "      <th>Embarked</th>\n",
       "    </tr>\n",
       "  </thead>\n",
       "  <tbody>\n",
       "    <tr>\n",
       "      <th>0</th>\n",
       "      <td>1</td>\n",
       "      <td>0</td>\n",
       "      <td>3</td>\n",
       "      <td>Braund, Mr. Owen Harris</td>\n",
       "      <td>male</td>\n",
       "      <td>22.0</td>\n",
       "      <td>1</td>\n",
       "      <td>0</td>\n",
       "      <td>A/5 21171</td>\n",
       "      <td>7.2500</td>\n",
       "      <td>NaN</td>\n",
       "      <td>S</td>\n",
       "    </tr>\n",
       "    <tr>\n",
       "      <th>1</th>\n",
       "      <td>2</td>\n",
       "      <td>1</td>\n",
       "      <td>1</td>\n",
       "      <td>Cumings, Mrs. John Bradley (Florence Briggs Th...</td>\n",
       "      <td>female</td>\n",
       "      <td>38.0</td>\n",
       "      <td>1</td>\n",
       "      <td>0</td>\n",
       "      <td>PC 17599</td>\n",
       "      <td>71.2833</td>\n",
       "      <td>C85</td>\n",
       "      <td>C</td>\n",
       "    </tr>\n",
       "    <tr>\n",
       "      <th>2</th>\n",
       "      <td>3</td>\n",
       "      <td>1</td>\n",
       "      <td>3</td>\n",
       "      <td>Heikkinen, Miss. Laina</td>\n",
       "      <td>female</td>\n",
       "      <td>26.0</td>\n",
       "      <td>0</td>\n",
       "      <td>0</td>\n",
       "      <td>STON/O2. 3101282</td>\n",
       "      <td>7.9250</td>\n",
       "      <td>NaN</td>\n",
       "      <td>S</td>\n",
       "    </tr>\n",
       "    <tr>\n",
       "      <th>3</th>\n",
       "      <td>4</td>\n",
       "      <td>1</td>\n",
       "      <td>1</td>\n",
       "      <td>Futrelle, Mrs. Jacques Heath (Lily May Peel)</td>\n",
       "      <td>female</td>\n",
       "      <td>35.0</td>\n",
       "      <td>1</td>\n",
       "      <td>0</td>\n",
       "      <td>113803</td>\n",
       "      <td>53.1000</td>\n",
       "      <td>C123</td>\n",
       "      <td>S</td>\n",
       "    </tr>\n",
       "    <tr>\n",
       "      <th>4</th>\n",
       "      <td>5</td>\n",
       "      <td>0</td>\n",
       "      <td>3</td>\n",
       "      <td>Allen, Mr. William Henry</td>\n",
       "      <td>male</td>\n",
       "      <td>35.0</td>\n",
       "      <td>0</td>\n",
       "      <td>0</td>\n",
       "      <td>373450</td>\n",
       "      <td>8.0500</td>\n",
       "      <td>NaN</td>\n",
       "      <td>S</td>\n",
       "    </tr>\n",
       "  </tbody>\n",
       "</table>\n",
       "</div>"
      ],
      "text/plain": [
       "   PassengerId  Survived  Pclass   \n",
       "0            1         0       3  \\\n",
       "1            2         1       1   \n",
       "2            3         1       3   \n",
       "3            4         1       1   \n",
       "4            5         0       3   \n",
       "\n",
       "                                                Name     Sex   Age  SibSp   \n",
       "0                            Braund, Mr. Owen Harris    male  22.0      1  \\\n",
       "1  Cumings, Mrs. John Bradley (Florence Briggs Th...  female  38.0      1   \n",
       "2                             Heikkinen, Miss. Laina  female  26.0      0   \n",
       "3       Futrelle, Mrs. Jacques Heath (Lily May Peel)  female  35.0      1   \n",
       "4                           Allen, Mr. William Henry    male  35.0      0   \n",
       "\n",
       "   Parch            Ticket     Fare Cabin Embarked  \n",
       "0      0         A/5 21171   7.2500   NaN        S  \n",
       "1      0          PC 17599  71.2833   C85        C  \n",
       "2      0  STON/O2. 3101282   7.9250   NaN        S  \n",
       "3      0            113803  53.1000  C123        S  \n",
       "4      0            373450   8.0500   NaN        S  "
      ]
     },
     "execution_count": 7,
     "metadata": {},
     "output_type": "execute_result"
    }
   ],
   "source": [
    "df.head()"
   ]
  },
  {
   "cell_type": "markdown",
   "id": "0d255261-2b9f-4a5f-9656-4e37acfa90de",
   "metadata": {},
   "source": [
    "### Checking of NULL values"
   ]
  },
  {
   "cell_type": "code",
   "execution_count": 8,
   "id": "e6d8ded5-3c0d-4b32-b6b7-f00c2c73f894",
   "metadata": {},
   "outputs": [
    {
     "data": {
      "text/plain": [
       "PassengerId      0\n",
       "Survived         0\n",
       "Pclass           0\n",
       "Name             0\n",
       "Sex              0\n",
       "Age            177\n",
       "SibSp            0\n",
       "Parch            0\n",
       "Ticket           0\n",
       "Fare             0\n",
       "Cabin          687\n",
       "Embarked         2\n",
       "dtype: int64"
      ]
     },
     "execution_count": 8,
     "metadata": {},
     "output_type": "execute_result"
    }
   ],
   "source": [
    "df.isnull().sum()"
   ]
  },
  {
   "cell_type": "markdown",
   "id": "132bc226-3a34-42eb-9cfb-732d4bb39251",
   "metadata": {},
   "source": [
    "### Checking of duplicate values"
   ]
  },
  {
   "cell_type": "code",
   "execution_count": 9,
   "id": "c5da4b35-5747-4cb0-8f6f-24340b50f16a",
   "metadata": {},
   "outputs": [
    {
     "data": {
      "text/plain": [
       "0"
      ]
     },
     "execution_count": 9,
     "metadata": {},
     "output_type": "execute_result"
    }
   ],
   "source": [
    "df.duplicated().sum()"
   ]
  },
  {
   "cell_type": "markdown",
   "id": "eaf9b596-6fb0-40a4-908d-7c6a31e52c46",
   "metadata": {},
   "source": [
    "### Data Wrangling\n",
    "#### Removing the Cabin Column as its irrelevenat and had too much missing data"
   ]
  },
  {
   "cell_type": "code",
   "execution_count": 10,
   "id": "ab42d636-9fc1-4f64-b9aa-f15f83dc1b96",
   "metadata": {},
   "outputs": [],
   "source": [
    "df.drop(columns=['Cabin'],inplace = True)"
   ]
  },
  {
   "cell_type": "code",
   "execution_count": 11,
   "id": "71918bee-9c8c-4e2f-8045-c21a20e8a5c0",
   "metadata": {},
   "outputs": [
    {
     "data": {
      "text/plain": [
       "PassengerId      0\n",
       "Survived         0\n",
       "Pclass           0\n",
       "Name             0\n",
       "Sex              0\n",
       "Age            177\n",
       "SibSp            0\n",
       "Parch            0\n",
       "Ticket           0\n",
       "Fare             0\n",
       "Embarked         2\n",
       "dtype: int64"
      ]
     },
     "execution_count": 11,
     "metadata": {},
     "output_type": "execute_result"
    }
   ],
   "source": [
    "df.isnull().sum()"
   ]
  },
  {
   "cell_type": "markdown",
   "id": "b8064bed-d0b0-4ac8-9a49-2e30fa49c401",
   "metadata": {},
   "source": [
    "#### Filling the age with average value "
   ]
  },
  {
   "cell_type": "code",
   "execution_count": 12,
   "id": "0fb73e5b-ab70-44cb-aab5-84c1183d32ff",
   "metadata": {},
   "outputs": [],
   "source": [
    "df['Age'].fillna(df['Age'].mean(),inplace= True)"
   ]
  },
  {
   "cell_type": "markdown",
   "id": "50f44bf3-b542-4990-a30d-5bac6e3f50a7",
   "metadata": {},
   "source": [
    "#### Removing the values with NA "
   ]
  },
  {
   "cell_type": "code",
   "execution_count": 13,
   "id": "53aded90-5de2-4dc3-9744-85f240f2e18c",
   "metadata": {},
   "outputs": [],
   "source": [
    "df.dropna(inplace=True)"
   ]
  },
  {
   "cell_type": "markdown",
   "id": "8018f2de-dfae-486b-99c1-887f960ff977",
   "metadata": {},
   "source": [
    "### Clean Data"
   ]
  },
  {
   "cell_type": "code",
   "execution_count": 14,
   "id": "140ce34a-6719-4003-a1b3-3675559dc975",
   "metadata": {},
   "outputs": [
    {
     "data": {
      "text/plain": [
       "PassengerId    0\n",
       "Survived       0\n",
       "Pclass         0\n",
       "Name           0\n",
       "Sex            0\n",
       "Age            0\n",
       "SibSp          0\n",
       "Parch          0\n",
       "Ticket         0\n",
       "Fare           0\n",
       "Embarked       0\n",
       "dtype: int64"
      ]
     },
     "execution_count": 14,
     "metadata": {},
     "output_type": "execute_result"
    }
   ],
   "source": [
    "df.isnull().sum()"
   ]
  },
  {
   "cell_type": "markdown",
   "id": "0f57dcf7-a5db-4172-88de-17da42636d8f",
   "metadata": {},
   "source": [
    "### Checking for outliers"
   ]
  },
  {
   "cell_type": "markdown",
   "id": "2158b641-65a7-4d0f-89d9-169548d12c1a",
   "metadata": {},
   "source": [
    "#### Using Z-Score\n",
    "#### z_score = (value-mean)/standard_deviation\n",
    "##### The Z-score method measures how many standard deviations a data point is from the mean. Typically, values beyond a certain threshold (often 2 or 3 standard deviations) are considered outliers."
   ]
  },
  {
   "cell_type": "code",
   "execution_count": 15,
   "id": "e5be316c-7d28-4f0f-9497-bd3ab330fc0a",
   "metadata": {
    "jp-MarkdownHeadingCollapsed": true
   },
   "outputs": [
    {
     "name": "stdout",
     "output_type": "stream",
     "text": [
      "0     -0.590495\n",
      "1      0.643971\n",
      "2     -0.281878\n",
      "3      0.412509\n",
      "4      0.412509\n",
      "         ...   \n",
      "886   -0.204724\n",
      "887   -0.821957\n",
      "888    0.003524\n",
      "889   -0.281878\n",
      "890    0.181046\n",
      "Name: Age, Length: 889, dtype: float64\n"
     ]
    }
   ],
   "source": [
    "z_score = stats.zscore(df['Age'])\n",
    "print(z_score)"
   ]
  },
  {
   "cell_type": "markdown",
   "id": "5fc501e8-3ed5-4100-8752-9ca0f27d7291",
   "metadata": {},
   "source": [
    "##### Now let the threshold be 3 and lets find the indices which are above 3"
   ]
  },
  {
   "cell_type": "code",
   "execution_count": 16,
   "id": "4a0cbffb-f2b4-4980-951f-a28a990e78ac",
   "metadata": {},
   "outputs": [
    {
     "name": "stdout",
     "output_type": "stream",
     "text": [
      "[ 95 115 492 629 671 744 849]\n"
     ]
    }
   ],
   "source": [
    "threshold = 3 \n",
    "outliner_indice = np.where(np.abs(z_score) > threshold)[0]\n",
    "print(outliner_indice)"
   ]
  },
  {
   "cell_type": "markdown",
   "id": "e02430b7-ae56-4dc4-9517-7d8c7a828c97",
   "metadata": {},
   "source": [
    "##### Retriving the data from the indices which were outliners\n",
    "###### The [0] at the end extracts the indices from the tuple returned by np.where."
   ]
  },
  {
   "cell_type": "code",
   "execution_count": 17,
   "id": "65ca8b12-6fff-47fc-859a-1ebc73e44c9c",
   "metadata": {},
   "outputs": [
    {
     "name": "stdout",
     "output_type": "stream",
     "text": [
      "96     71.0\n",
      "116    70.5\n",
      "493    71.0\n",
      "630    80.0\n",
      "672    70.0\n",
      "745    70.0\n",
      "851    74.0\n",
      "Name: Age, dtype: float64\n"
     ]
    }
   ],
   "source": [
    "outliners = df['Age'].iloc[outliner_indice]\n",
    "print(outliners)"
   ]
  },
  {
   "cell_type": "markdown",
   "id": "564ded42-2611-4a44-984c-db0be83c7edc",
   "metadata": {},
   "source": [
    "#### Plotting of Outliers"
   ]
  },
  {
   "cell_type": "code",
   "execution_count": 29,
   "id": "ffcffe13-77e5-4194-ad1d-bcdc33ac7b63",
   "metadata": {},
   "outputs": [
    {
     "data": {
      "text/plain": [
       "<AxesSubplot:>"
      ]
     },
     "execution_count": 29,
     "metadata": {},
     "output_type": "execute_result"
    },
    {
     "data": {
      "image/png": "[encoded data removed]",
      "text/plain": [
       "<Figure size 640x480 with 1 Axes>"
      ]
     },
     "metadata": {},
     "output_type": "display_data"
    }
   ],
   "source": [
    "df.plot(kind = 'box' , x = 'PassengerId' , y = 'Age' ,color = 'green')"
   ]
  },
  {
   "cell_type": "markdown",
   "id": "da2a0bf0-0aa0-4fe5-bd04-6ad5c8fa43c3",
   "metadata": {},
   "source": [
    "#### Using IOR\n",
    "##### To find the interquartile range (IQR), ​first find the median (middle value) of the lower and upper half of the data. These values are quartile 1 (Q1) and quartile 3 (Q3). The IQR is the difference between Q3 and Q1"
   ]
  },
  {
   "cell_type": "code",
   "execution_count": 33,
   "id": "853082ed-aa17-427b-b888-378d1cad5ded",
   "metadata": {},
   "outputs": [
    {
     "name": "stdout",
     "output_type": "stream",
     "text": [
      "13.0\n"
     ]
    }
   ],
   "source": [
    "Q1 = df['Age'].quantile(0.25)\n",
    "Q3 = df['Age'].quantile(0.75)\n",
    "IQR = Q3 - Q1 \n",
    "print(IQR)"
   ]
  },
  {
   "cell_type": "markdown",
   "id": "1ecd1ce5-6b64-4caa-9423-4742d1da89df",
   "metadata": {},
   "source": [
    "##### Calculate the lower and upper bound for the outliers"
   ]
  },
  {
   "cell_type": "code",
   "execution_count": 40,
   "id": "c14030c2-49d7-4f87-99cf-4856632f9216",
   "metadata": {},
   "outputs": [],
   "source": [
    "lower_bound = Q1 - ( 1.5 * IQR )\n",
    "upper_bound = Q3 + ( 1.5 * IQR )"
   ]
  },
  {
   "cell_type": "markdown",
   "id": "65db2303-df72-441e-892d-ca2fd33108ab",
   "metadata": {},
   "source": [
    "##### Remove the indices which lie below the lower bound and the values which lie above the upper bound "
   ]
  },
  {
   "cell_type": "code",
   "execution_count": 47,
   "id": "0ccb1af1-f73c-4783-8752-22a04d2c1a64",
   "metadata": {},
   "outputs": [
    {
     "name": "stdout",
     "output_type": "stream",
     "text": [
      "[  7  11  15  16  33  54  77  93  95 115 118 151 163 169 171 173 182 194\n",
      " 204 231 251 267 274 279 296 304 325 339 365 380 385 437 455 466 468 478\n",
      " 482 486 491 492 529 544 554 569 586 624 625 629 641 643 646 658 671 683\n",
      " 693 744 754 771 787 802 823 826 829 849 877]\n"
     ]
    }
   ],
   "source": [
    "outlier_indices = np.where((df['Age'] > upper_bound)|(df['Age'] < lower_bound) )[0]\n",
    "print(outlier_indices)"
   ]
  },
  {
   "cell_type": "markdown",
   "id": "f6522362-8217-4235-b7a6-86783c284e23",
   "metadata": {},
   "source": [
    "##### Printing of all the outlier values "
   ]
  },
  {
   "cell_type": "code",
   "execution_count": 48,
   "id": "28dbcc6f-de5b-4824-9b6f-ef60c0196d98",
   "metadata": {},
   "outputs": [
    {
     "name": "stdout",
     "output_type": "stream",
     "text": [
      "7       2.00\n",
      "11     58.00\n",
      "15     55.00\n",
      "16      2.00\n",
      "33     66.00\n",
      "       ...  \n",
      "824     2.00\n",
      "827     1.00\n",
      "831     0.83\n",
      "851    74.00\n",
      "879    56.00\n",
      "Name: Age, Length: 65, dtype: float64\n"
     ]
    }
   ],
   "source": [
    "outliners = df['Age'].iloc[outlier_indices]\n",
    "print(outliners)"
   ]
  },
  {
   "cell_type": "code",
   "execution_count": null,
   "id": "63073093-f44b-43a6-9c03-3d5d3ccdc106",
   "metadata": {},
   "outputs": [],
   "source": []
  }
 ],
 "metadata": {
  "kernelspec": {
   "display_name": "Python 3 (ipykernel)",
   "language": "python",
   "name": "python3"
  },
  "language_info": {
   "codemirror_mode": {
    "name": "ipython",
    "version": 3
   },
   "file_extension": ".py",
   "mimetype": "text/x-python",
   "name": "python",
   "nbconvert_exporter": "python",
   "pygments_lexer": "ipython3",
   "version": "3.10.2"
  }
 },
 "nbformat": 4,
 "nbformat_minor": 5
}
